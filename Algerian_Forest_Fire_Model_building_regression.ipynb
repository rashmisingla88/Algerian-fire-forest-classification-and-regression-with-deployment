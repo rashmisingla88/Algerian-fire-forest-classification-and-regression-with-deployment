{
 "cells": [
  {
   "cell_type": "markdown",
   "id": "b40bd3bc",
   "metadata": {},
   "source": [
    "## 1. Data preprocessing"
   ]
  },
  {
   "cell_type": "markdown",
   "id": "571b739f",
   "metadata": {},
   "source": [
    "### 1.1 Import libraries\n"
   ]
  },
  {
   "cell_type": "code",
   "execution_count": 104,
   "id": "8698c009",
   "metadata": {},
   "outputs": [],
   "source": [
    "import pandas as pd\n",
    "import numpy as np\n",
    "import matplotlib.pyplot as plt\n",
    "import seaborn as sns\n",
    "from sklearn.model_selection import train_test_split\n",
    "from sklearn.model_selection import GridSearchCV,RandomizedSearchCV\n",
    "from sklearn.preprocessing import StandardScaler\n",
    "from sklearn.tree import DecisionTreeClassifier\n",
    "from sklearn.ensemble import RandomForestClassifier\n",
    "%matplotlib inline"
   ]
  },
  {
   "cell_type": "markdown",
   "id": "0570a59a",
   "metadata": {},
   "source": [
    "### 1.2 Importing the cleaned data"
   ]
  },
  {
   "cell_type": "code",
   "execution_count": 105,
   "id": "1f1414ee",
   "metadata": {},
   "outputs": [
    {
     "data": {
      "text/html": [
       "<div>\n",
       "<style scoped>\n",
       "    .dataframe tbody tr th:only-of-type {\n",
       "        vertical-align: middle;\n",
       "    }\n",
       "\n",
       "    .dataframe tbody tr th {\n",
       "        vertical-align: top;\n",
       "    }\n",
       "\n",
       "    .dataframe thead th {\n",
       "        text-align: right;\n",
       "    }\n",
       "</style>\n",
       "<table border=\"1\" class=\"dataframe\">\n",
       "  <thead>\n",
       "    <tr style=\"text-align: right;\">\n",
       "      <th></th>\n",
       "      <th>Temperature</th>\n",
       "      <th>RH</th>\n",
       "      <th>Ws</th>\n",
       "      <th>Rain</th>\n",
       "      <th>FFMC</th>\n",
       "      <th>DMC</th>\n",
       "      <th>DC</th>\n",
       "      <th>ISI</th>\n",
       "      <th>BUI</th>\n",
       "      <th>FWI</th>\n",
       "      <th>Classes</th>\n",
       "    </tr>\n",
       "  </thead>\n",
       "  <tbody>\n",
       "    <tr>\n",
       "      <th>0</th>\n",
       "      <td>29</td>\n",
       "      <td>57</td>\n",
       "      <td>18</td>\n",
       "      <td>0.0</td>\n",
       "      <td>65.7</td>\n",
       "      <td>3.4</td>\n",
       "      <td>7.6</td>\n",
       "      <td>1.3</td>\n",
       "      <td>3.4</td>\n",
       "      <td>0.5</td>\n",
       "      <td>0</td>\n",
       "    </tr>\n",
       "    <tr>\n",
       "      <th>1</th>\n",
       "      <td>29</td>\n",
       "      <td>61</td>\n",
       "      <td>13</td>\n",
       "      <td>1.3</td>\n",
       "      <td>64.4</td>\n",
       "      <td>4.1</td>\n",
       "      <td>7.6</td>\n",
       "      <td>1.0</td>\n",
       "      <td>3.9</td>\n",
       "      <td>0.4</td>\n",
       "      <td>0</td>\n",
       "    </tr>\n",
       "    <tr>\n",
       "      <th>2</th>\n",
       "      <td>26</td>\n",
       "      <td>82</td>\n",
       "      <td>22</td>\n",
       "      <td>13.1</td>\n",
       "      <td>47.1</td>\n",
       "      <td>2.5</td>\n",
       "      <td>7.1</td>\n",
       "      <td>0.3</td>\n",
       "      <td>2.7</td>\n",
       "      <td>0.1</td>\n",
       "      <td>0</td>\n",
       "    </tr>\n",
       "    <tr>\n",
       "      <th>3</th>\n",
       "      <td>25</td>\n",
       "      <td>89</td>\n",
       "      <td>13</td>\n",
       "      <td>2.5</td>\n",
       "      <td>28.6</td>\n",
       "      <td>1.3</td>\n",
       "      <td>6.9</td>\n",
       "      <td>0.0</td>\n",
       "      <td>1.7</td>\n",
       "      <td>0.0</td>\n",
       "      <td>0</td>\n",
       "    </tr>\n",
       "    <tr>\n",
       "      <th>4</th>\n",
       "      <td>27</td>\n",
       "      <td>77</td>\n",
       "      <td>16</td>\n",
       "      <td>0.0</td>\n",
       "      <td>64.8</td>\n",
       "      <td>3.0</td>\n",
       "      <td>14.2</td>\n",
       "      <td>1.2</td>\n",
       "      <td>3.9</td>\n",
       "      <td>0.5</td>\n",
       "      <td>0</td>\n",
       "    </tr>\n",
       "  </tbody>\n",
       "</table>\n",
       "</div>"
      ],
      "text/plain": [
       "   Temperature  RH  Ws  Rain  FFMC  DMC    DC  ISI  BUI  FWI  Classes\n",
       "0           29  57  18   0.0  65.7  3.4   7.6  1.3  3.4  0.5        0\n",
       "1           29  61  13   1.3  64.4  4.1   7.6  1.0  3.9  0.4        0\n",
       "2           26  82  22  13.1  47.1  2.5   7.1  0.3  2.7  0.1        0\n",
       "3           25  89  13   2.5  28.6  1.3   6.9  0.0  1.7  0.0        0\n",
       "4           27  77  16   0.0  64.8  3.0  14.2  1.2  3.9  0.5        0"
      ]
     },
     "execution_count": 105,
     "metadata": {},
     "output_type": "execute_result"
    }
   ],
   "source": [
    "df=pd.read_csv('Algerian_forest_fires_dataset_CLEANED.csv',sep=\",\")\n",
    "df.head()"
   ]
  },
  {
   "cell_type": "code",
   "execution_count": 106,
   "id": "92e3f76c",
   "metadata": {},
   "outputs": [],
   "source": [
    "# independent and dependent features for regression problem\n",
    "X=df.drop('FWI',axis=1)\n",
    "y=df['FWI']"
   ]
  },
  {
   "cell_type": "markdown",
   "id": "f93d9556",
   "metadata": {},
   "source": [
    "### 1.3 Search for correlated features and removing them"
   ]
  },
  {
   "cell_type": "code",
   "execution_count": 107,
   "id": "008cfedb",
   "metadata": {},
   "outputs": [
    {
     "data": {
      "text/html": [
       "<div>\n",
       "<style scoped>\n",
       "    .dataframe tbody tr th:only-of-type {\n",
       "        vertical-align: middle;\n",
       "    }\n",
       "\n",
       "    .dataframe tbody tr th {\n",
       "        vertical-align: top;\n",
       "    }\n",
       "\n",
       "    .dataframe thead th {\n",
       "        text-align: right;\n",
       "    }\n",
       "</style>\n",
       "<table border=\"1\" class=\"dataframe\">\n",
       "  <thead>\n",
       "    <tr style=\"text-align: right;\">\n",
       "      <th></th>\n",
       "      <th>Temperature</th>\n",
       "      <th>RH</th>\n",
       "      <th>Ws</th>\n",
       "      <th>Rain</th>\n",
       "      <th>FFMC</th>\n",
       "      <th>DMC</th>\n",
       "      <th>DC</th>\n",
       "      <th>ISI</th>\n",
       "      <th>BUI</th>\n",
       "      <th>Classes</th>\n",
       "    </tr>\n",
       "  </thead>\n",
       "  <tbody>\n",
       "    <tr>\n",
       "      <th>Temperature</th>\n",
       "      <td>1.000000</td>\n",
       "      <td>-0.651400</td>\n",
       "      <td>-0.284510</td>\n",
       "      <td>-0.326492</td>\n",
       "      <td>0.676568</td>\n",
       "      <td>0.485687</td>\n",
       "      <td>0.376284</td>\n",
       "      <td>0.603871</td>\n",
       "      <td>0.459789</td>\n",
       "      <td>0.516015</td>\n",
       "    </tr>\n",
       "    <tr>\n",
       "      <th>RH</th>\n",
       "      <td>-0.651400</td>\n",
       "      <td>1.000000</td>\n",
       "      <td>0.244048</td>\n",
       "      <td>0.222356</td>\n",
       "      <td>-0.644873</td>\n",
       "      <td>-0.408519</td>\n",
       "      <td>-0.226941</td>\n",
       "      <td>-0.686667</td>\n",
       "      <td>-0.353841</td>\n",
       "      <td>-0.432161</td>\n",
       "    </tr>\n",
       "    <tr>\n",
       "      <th>Ws</th>\n",
       "      <td>-0.284510</td>\n",
       "      <td>0.244048</td>\n",
       "      <td>1.000000</td>\n",
       "      <td>0.171506</td>\n",
       "      <td>-0.166548</td>\n",
       "      <td>-0.000721</td>\n",
       "      <td>0.079135</td>\n",
       "      <td>0.008532</td>\n",
       "      <td>0.031438</td>\n",
       "      <td>-0.069964</td>\n",
       "    </tr>\n",
       "    <tr>\n",
       "      <th>Rain</th>\n",
       "      <td>-0.326492</td>\n",
       "      <td>0.222356</td>\n",
       "      <td>0.171506</td>\n",
       "      <td>1.000000</td>\n",
       "      <td>-0.543906</td>\n",
       "      <td>-0.288773</td>\n",
       "      <td>-0.298023</td>\n",
       "      <td>-0.347484</td>\n",
       "      <td>-0.299852</td>\n",
       "      <td>-0.379097</td>\n",
       "    </tr>\n",
       "    <tr>\n",
       "      <th>FFMC</th>\n",
       "      <td>0.676568</td>\n",
       "      <td>-0.644873</td>\n",
       "      <td>-0.166548</td>\n",
       "      <td>-0.543906</td>\n",
       "      <td>1.000000</td>\n",
       "      <td>0.603608</td>\n",
       "      <td>0.507397</td>\n",
       "      <td>0.740007</td>\n",
       "      <td>0.592011</td>\n",
       "      <td>0.769492</td>\n",
       "    </tr>\n",
       "    <tr>\n",
       "      <th>DMC</th>\n",
       "      <td>0.485687</td>\n",
       "      <td>-0.408519</td>\n",
       "      <td>-0.000721</td>\n",
       "      <td>-0.288773</td>\n",
       "      <td>0.603608</td>\n",
       "      <td>1.000000</td>\n",
       "      <td>0.875925</td>\n",
       "      <td>0.680454</td>\n",
       "      <td>0.982248</td>\n",
       "      <td>0.585658</td>\n",
       "    </tr>\n",
       "    <tr>\n",
       "      <th>DC</th>\n",
       "      <td>0.376284</td>\n",
       "      <td>-0.226941</td>\n",
       "      <td>0.079135</td>\n",
       "      <td>-0.298023</td>\n",
       "      <td>0.507397</td>\n",
       "      <td>0.875925</td>\n",
       "      <td>1.000000</td>\n",
       "      <td>0.508643</td>\n",
       "      <td>0.941988</td>\n",
       "      <td>0.511123</td>\n",
       "    </tr>\n",
       "    <tr>\n",
       "      <th>ISI</th>\n",
       "      <td>0.603871</td>\n",
       "      <td>-0.686667</td>\n",
       "      <td>0.008532</td>\n",
       "      <td>-0.347484</td>\n",
       "      <td>0.740007</td>\n",
       "      <td>0.680454</td>\n",
       "      <td>0.508643</td>\n",
       "      <td>1.000000</td>\n",
       "      <td>0.644093</td>\n",
       "      <td>0.735197</td>\n",
       "    </tr>\n",
       "    <tr>\n",
       "      <th>BUI</th>\n",
       "      <td>0.459789</td>\n",
       "      <td>-0.353841</td>\n",
       "      <td>0.031438</td>\n",
       "      <td>-0.299852</td>\n",
       "      <td>0.592011</td>\n",
       "      <td>0.982248</td>\n",
       "      <td>0.941988</td>\n",
       "      <td>0.644093</td>\n",
       "      <td>1.000000</td>\n",
       "      <td>0.586639</td>\n",
       "    </tr>\n",
       "    <tr>\n",
       "      <th>Classes</th>\n",
       "      <td>0.516015</td>\n",
       "      <td>-0.432161</td>\n",
       "      <td>-0.069964</td>\n",
       "      <td>-0.379097</td>\n",
       "      <td>0.769492</td>\n",
       "      <td>0.585658</td>\n",
       "      <td>0.511123</td>\n",
       "      <td>0.735197</td>\n",
       "      <td>0.586639</td>\n",
       "      <td>1.000000</td>\n",
       "    </tr>\n",
       "  </tbody>\n",
       "</table>\n",
       "</div>"
      ],
      "text/plain": [
       "             Temperature        RH        Ws      Rain      FFMC       DMC  \\\n",
       "Temperature     1.000000 -0.651400 -0.284510 -0.326492  0.676568  0.485687   \n",
       "RH             -0.651400  1.000000  0.244048  0.222356 -0.644873 -0.408519   \n",
       "Ws             -0.284510  0.244048  1.000000  0.171506 -0.166548 -0.000721   \n",
       "Rain           -0.326492  0.222356  0.171506  1.000000 -0.543906 -0.288773   \n",
       "FFMC            0.676568 -0.644873 -0.166548 -0.543906  1.000000  0.603608   \n",
       "DMC             0.485687 -0.408519 -0.000721 -0.288773  0.603608  1.000000   \n",
       "DC              0.376284 -0.226941  0.079135 -0.298023  0.507397  0.875925   \n",
       "ISI             0.603871 -0.686667  0.008532 -0.347484  0.740007  0.680454   \n",
       "BUI             0.459789 -0.353841  0.031438 -0.299852  0.592011  0.982248   \n",
       "Classes         0.516015 -0.432161 -0.069964 -0.379097  0.769492  0.585658   \n",
       "\n",
       "                   DC       ISI       BUI   Classes  \n",
       "Temperature  0.376284  0.603871  0.459789  0.516015  \n",
       "RH          -0.226941 -0.686667 -0.353841 -0.432161  \n",
       "Ws           0.079135  0.008532  0.031438 -0.069964  \n",
       "Rain        -0.298023 -0.347484 -0.299852 -0.379097  \n",
       "FFMC         0.507397  0.740007  0.592011  0.769492  \n",
       "DMC          0.875925  0.680454  0.982248  0.585658  \n",
       "DC           1.000000  0.508643  0.941988  0.511123  \n",
       "ISI          0.508643  1.000000  0.644093  0.735197  \n",
       "BUI          0.941988  0.644093  1.000000  0.586639  \n",
       "Classes      0.511123  0.735197  0.586639  1.000000  "
      ]
     },
     "execution_count": 107,
     "metadata": {},
     "output_type": "execute_result"
    }
   ],
   "source": [
    "correlation=X.corr()\n",
    "correlation"
   ]
  },
  {
   "cell_type": "code",
   "execution_count": 108,
   "id": "c3231e75",
   "metadata": {},
   "outputs": [
    {
     "data": {
      "image/png": "[encoded data removed]",
      "text/plain": [
       "<Figure size 1200x800 with 2 Axes>"
      ]
     },
     "metadata": {},
     "output_type": "display_data"
    }
   ],
   "source": [
    "#Using peason correlation\n",
    "plt.figure(figsize=(12,8))\n",
    "sns.heatmap(correlation,annot=True)\n",
    "plt.show()"
   ]
  },
  {
   "cell_type": "code",
   "execution_count": 109,
   "id": "37aedd1f",
   "metadata": {},
   "outputs": [
    {
     "data": {
      "text/plain": [
       "'Ws'"
      ]
     },
     "execution_count": 109,
     "metadata": {},
     "output_type": "execute_result"
    }
   ],
   "source": [
    "correlation.index[2]"
   ]
  },
  {
   "cell_type": "code",
   "execution_count": 110,
   "id": "fbf6b30c",
   "metadata": {},
   "outputs": [],
   "source": [
    "def corr_fn(dataset,threshold):\n",
    "    col_corr=set()\n",
    "    row_corr=set()\n",
    "    correlation_matrix=dataset.corr()\n",
    "    for i in range(len(correlation_matrix.columns)):\n",
    "        for j in range(i):\n",
    "            if abs(correlation_matrix.iloc[i,j])>threshold:\n",
    "                column_name=correlation_matrix.columns[j]\n",
    "                row_name=correlation_matrix.index[i]\n",
    "                col_corr.add(column_name)\n",
    "                row_corr.add(row_name)\n",
    "    return col_corr,row_corr"
   ]
  },
  {
   "cell_type": "code",
   "execution_count": 111,
   "id": "bb94a48b",
   "metadata": {},
   "outputs": [
    {
     "name": "stdout",
     "output_type": "stream",
     "text": [
      "Correlated features are {'DMC'} and {'BUI'}\n"
     ]
    }
   ],
   "source": [
    "(col_corr,row_corr)=corr_fn(X,0.95)\n",
    "print('Correlated features are',col_corr,'and',row_corr)"
   ]
  },
  {
   "cell_type": "code",
   "execution_count": 112,
   "id": "b2a33284",
   "metadata": {},
   "outputs": [],
   "source": [
    "# Dropping the features with high correlation\n",
    "X.drop(col_corr,axis=1,inplace=True)\n"
   ]
  },
  {
   "cell_type": "markdown",
   "id": "49aeb321",
   "metadata": {},
   "source": [
    "### 1.3 Test-train split"
   ]
  },
  {
   "cell_type": "code",
   "execution_count": 113,
   "id": "f6475e6e",
   "metadata": {},
   "outputs": [],
   "source": [
    "X_train,X_test,y_train,y_test=train_test_split(X,y,test_size=0.2,random_state=0)"
   ]
  },
  {
   "cell_type": "markdown",
   "id": "dbc5872d",
   "metadata": {},
   "source": [
    "### 1.4 Standard Scaler"
   ]
  },
  {
   "cell_type": "code",
   "execution_count": 114,
   "id": "496bc36c",
   "metadata": {},
   "outputs": [],
   "source": [
    "def Standard_scaler(X_train,X_test):\n",
    "    scaler=StandardScaler()\n",
    "    X_train_scaled=scaler.fit_transform(X_train)\n",
    "    X_test_scaled=scaler.transform(X_test)\n",
    "    return X_train_scaled,X_test_scaled"
   ]
  },
  {
   "cell_type": "code",
   "execution_count": 115,
   "id": "bec8720b",
   "metadata": {},
   "outputs": [],
   "source": [
    "X_train_scaled,X_test_scaled=Standard_scaler(X_train,X_test)"
   ]
  },
  {
   "cell_type": "code",
   "execution_count": 116,
   "id": "fabd37f6",
   "metadata": {},
   "outputs": [
    {
     "name": "stderr",
     "output_type": "stream",
     "text": [
      "/tmp/ipykernel_69613/309616647.py:3: MatplotlibDeprecationWarning: Auto-removal of overlapping axes is deprecated since 3.6 and will be removed two minor releases later; explicitly call ax.remove() as needed.\n",
      "  plt.subplot(1,2,1)\n"
     ]
    },
    {
     "data": {
      "text/plain": [
       "Text(0.5, 1.0, 'X_train after standardization')"
      ]
     },
     "execution_count": 116,
     "metadata": {},
     "output_type": "execute_result"
    },
    {
     "data": {
      "image/png": "[encoded data removed]",
      "text/plain": [
       "<Figure size 1500x500 with 2 Axes>"
      ]
     },
     "metadata": {},
     "output_type": "display_data"
    }
   ],
   "source": [
    "# Visualization the effect of standardization\n",
    "plt.subplots(figsize=(15,5))\n",
    "plt.subplot(1,2,1)\n",
    "sns.boxplot(data=X_train)\n",
    "plt.title('X_train before standardization')\n",
    "plt.subplot(1,2,2)\n",
    "sns.boxplot(data=X_train_scaled)\n",
    "plt.title('X_train after standardization')"
   ]
  },
  {
   "cell_type": "markdown",
   "id": "443c9a3c",
   "metadata": {},
   "source": [
    "## 2. Model building "
   ]
  },
  {
   "cell_type": "markdown",
   "id": "cd56585c",
   "metadata": {},
   "source": [
    "### 2.1 Linear Regression"
   ]
  },
  {
   "cell_type": "code",
   "execution_count": 117,
   "id": "e8ca7232",
   "metadata": {},
   "outputs": [
    {
     "name": "stdout",
     "output_type": "stream",
     "text": [
      "Linear Regression \n",
      "r2 score is 0.9767304218548664\n"
     ]
    }
   ],
   "source": [
    "from sklearn.linear_model import LinearRegression\n",
    "linear_reg=LinearRegression()\n",
    "linear_reg.fit(X_train_scaled,y_train)\n",
    "linear_pred=linear_reg.predict(X_test_scaled)\n",
    "\n",
    "from sklearn.metrics import r2_score\n",
    "linear_r2=r2_score(linear_pred,y_test)\n",
    "print('Linear Regression \\nr2 score is',linear_r2)"
   ]
  },
  {
   "cell_type": "markdown",
   "id": "59fe13c1",
   "metadata": {},
   "source": [
    "### 2.2 Ridge Regression"
   ]
  },
  {
   "cell_type": "code",
   "execution_count": 118,
   "id": "e0dcb3c7",
   "metadata": {},
   "outputs": [
    {
     "name": "stdout",
     "output_type": "stream",
     "text": [
      "Ridge Regression \n",
      "r2 score is 0.9757080275512798\n"
     ]
    }
   ],
   "source": [
    "from sklearn.linear_model import Ridge\n",
    "ridge=Ridge()\n",
    "ridge.fit(X_train_scaled,y_train)\n",
    "ridge_pred=ridge.predict(X_test_scaled)\n",
    "\n",
    "ridge_r2=r2_score(ridge_pred,y_test)\n",
    "print('Ridge Regression \\nr2 score is',ridge_r2)"
   ]
  },
  {
   "cell_type": "markdown",
   "id": "25406b0c",
   "metadata": {},
   "source": [
    "### 3.3 Lasso Regression"
   ]
  },
  {
   "cell_type": "code",
   "execution_count": 119,
   "id": "6f0a6ec8",
   "metadata": {},
   "outputs": [
    {
     "name": "stdout",
     "output_type": "stream",
     "text": [
      "Lasso Regression \n",
      "r2 score is 0.9248360076467518\n"
     ]
    }
   ],
   "source": [
    "from sklearn.linear_model import Lasso\n",
    "lasso=Lasso()\n",
    "lasso.fit(X_train_scaled,y_train)\n",
    "lasso_pred=lasso.predict(X_test_scaled)\n",
    "\n",
    "lasso_r2=r2_score(lasso_pred,y_test)\n",
    "print('Lasso Regression \\nr2 score is',lasso_r2)"
   ]
  },
  {
   "cell_type": "markdown",
   "id": "66cc4871",
   "metadata": {},
   "source": [
    "### 3.4 k-nearest neighbours"
   ]
  },
  {
   "cell_type": "code",
   "execution_count": 120,
   "id": "145729b1",
   "metadata": {},
   "outputs": [
    {
     "name": "stdout",
     "output_type": "stream",
     "text": [
      "KNN \n",
      "r2 score is 0.9198831639820403\n"
     ]
    }
   ],
   "source": [
    "from sklearn.neighbors import KNeighborsRegressor\n",
    "knn=KNeighborsRegressor()\n",
    "knn.fit(X_train_scaled,y_train)\n",
    "knn_pred=knn.predict(X_test_scaled)\n",
    "\n",
    "knn_r2=r2_score(knn_pred,y_test)\n",
    "print('KNN \\nr2 score is',knn_r2)"
   ]
  },
  {
   "cell_type": "markdown",
   "id": "83f9435c",
   "metadata": {},
   "source": [
    "### 3.5 Support vector regressor"
   ]
  },
  {
   "cell_type": "code",
   "execution_count": 121,
   "id": "d3d8e5cc",
   "metadata": {},
   "outputs": [
    {
     "name": "stdout",
     "output_type": "stream",
     "text": [
      "Support vector regressor \n",
      "r2 score is 0.9062172586306708\n"
     ]
    }
   ],
   "source": [
    "from sklearn.svm import SVR\n",
    "svr=SVR()\n",
    "svr.fit(X_train_scaled,y_train)\n",
    "svr_pred=svr.predict(X_test_scaled)\n",
    "\n",
    "svr_r2=r2_score(svr_pred,y_test)\n",
    "print('Support vector regressor \\nr2 score is',svr_r2)"
   ]
  },
  {
   "cell_type": "markdown",
   "id": "c886fb34",
   "metadata": {},
   "source": [
    "### 3.6 Random forest"
   ]
  },
  {
   "cell_type": "code",
   "execution_count": 122,
   "id": "318ee223",
   "metadata": {},
   "outputs": [
    {
     "name": "stdout",
     "output_type": "stream",
     "text": [
      "Random Forest Regressor \n",
      "r2 score is 0.9872592838026903\n"
     ]
    }
   ],
   "source": [
    "from sklearn.ensemble import RandomForestRegressor\n",
    "rf_reg=RandomForestRegressor()\n",
    "rf_reg.fit(X_train_scaled,y_train)\n",
    "rf_reg_pred=rf_reg.predict(X_test_scaled)\n",
    "\n",
    "rf_reg_r2=r2_score(rf_reg_pred,y_test)\n",
    "print('Random Forest Regressor \\nr2 score is',rf_reg_r2)"
   ]
  },
  {
   "cell_type": "code",
   "execution_count": 123,
   "id": "400d8dcb",
   "metadata": {},
   "outputs": [
    {
     "name": "stdout",
     "output_type": "stream",
     "text": [
      "Model                  R2 score\n",
      "-------------------  ----------\n",
      "Linear regressor       0.97673\n",
      "Ridge                  0.975708\n",
      "Lasso                  0.924836\n",
      "k-nearest neigbours    0.919883\n",
      "Support vector         0.906217\n",
      "Random forest          0.987259\n"
     ]
    }
   ],
   "source": [
    "from tabulate import tabulate\n",
    "\n",
    "r2_all = [[\"Linear regressor\", linear_r2],\n",
    "    [\"Ridge\", ridge_r2],\n",
    "    [\"Lasso\", lasso_r2],\n",
    "    [\"k-nearest neigbours\", knn_r2],\n",
    "        [\"Support vector\", svr_r2],\n",
    "        [\"Random forest\", rf_reg_r2]]\n",
    "\n",
    "# Print tabular representation\n",
    "print(tabulate(r2_all, headers=[\"Model\", \"R2 score\"]))"
   ]
  },
  {
   "cell_type": "markdown",
   "id": "0ee538d7",
   "metadata": {},
   "source": [
    "### 3.7 Hyperparameter tuning"
   ]
  },
  {
   "cell_type": "markdown",
   "id": "0f0c97f1",
   "metadata": {},
   "source": [
    "### 3.7.1 Random Forest tuning"
   ]
  },
  {
   "cell_type": "code",
   "execution_count": 124,
   "id": "88f22ce4",
   "metadata": {},
   "outputs": [],
   "source": [
    "from sklearn.model_selection import GridSearchCV\n",
    "params={'max_depth':[5,6,7,8,9,10],'min_samples_split':[2,3,4,5]}\n",
    "rf_tune=GridSearchCV(rf_reg,params,cv=5)\n",
    "rf_tune.fit(X_train,y_train)\n",
    "rf_tune_pred=rf_tune.predict(X_test)\n",
    "performance_rf_tune=r2_score(y_test,rf_tune_pred)"
   ]
  },
  {
   "cell_type": "code",
   "execution_count": 125,
   "id": "80f6ed25",
   "metadata": {},
   "outputs": [
    {
     "data": {
      "text/plain": [
       "0.9856977768622143"
      ]
     },
     "execution_count": 125,
     "metadata": {},
     "output_type": "execute_result"
    }
   ],
   "source": [
    "performance_rf_tune"
   ]
  },
  {
   "cell_type": "markdown",
   "id": "a92dcf29",
   "metadata": {},
   "source": [
    "### 3.8 Saving the best model as .pkl file"
   ]
  },
  {
   "cell_type": "code",
   "execution_count": 126,
   "id": "b5b9cd3d",
   "metadata": {},
   "outputs": [],
   "source": [
    "import pickle\n",
    "pickle.dump(rf_reg,open('regressionmodel.pkl','wb'))"
   ]
  },
  {
   "cell_type": "code",
   "execution_count": null,
   "id": "84724342",
   "metadata": {},
   "outputs": [],
   "source": []
  }
 ],
 "metadata": {
  "kernelspec": {
   "display_name": "Python 3 (ipykernel)",
   "language": "python",
   "name": "python3"
  },
  "language_info": {
   "codemirror_mode": {
    "name": "ipython",
    "version": 3
   },
   "file_extension": ".py",
   "mimetype": "text/x-python",
   "name": "python",
   "nbconvert_exporter": "python",
   "pygments_lexer": "ipython3",
   "version": "3.11.3"
  }
 },
 "nbformat": 4,
 "nbformat_minor": 5
}
